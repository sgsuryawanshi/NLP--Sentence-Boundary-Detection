{
 "cells": [
  {
   "cell_type": "code",
   "execution_count": 51,
   "metadata": {},
   "outputs": [],
   "source": [
    "import nltk\n",
    "import os\n",
    "from nltk import FreqDist, bigrams\n",
    "import math"
   ]
  },
  {
   "cell_type": "code",
   "execution_count": 52,
   "metadata": {},
   "outputs": [],
   "source": [
    "#Reading the data from Collocations\n",
    "with open(\"demodata.txt\") as file1:\n",
    "    d = file1.read().splitlines()\n",
    "mystr = ''.join(d)"
   ]
  },
  {
   "cell_type": "code",
   "execution_count": 53,
   "metadata": {
    "scrolled": false
   },
   "outputs": [],
   "source": [
    "#Removing the punctuations from the data\n",
    "\n",
    "punctuations = '''!()-[]{};:'\"\\,<>./?@#$%^&*_~`'''\n",
    "\n",
    "newstr = \"\" \n",
    "for char in mystr:\n",
    "   if char not in punctuations:\n",
    "       newstr = newstr + char"
   ]
  },
  {
   "cell_type": "code",
   "execution_count": 54,
   "metadata": {},
   "outputs": [
    {
     "data": {
      "text/plain": [
       "7148"
      ]
     },
     "execution_count": 54,
     "metadata": {},
     "output_type": "execute_result"
    }
   ],
   "source": [
    "len(newstr)"
   ]
  },
  {
   "cell_type": "code",
   "execution_count": 55,
   "metadata": {},
   "outputs": [
    {
     "data": {
      "text/plain": [
       "1209"
      ]
     },
     "execution_count": 55,
     "metadata": {},
     "output_type": "execute_result"
    }
   ],
   "source": [
    "unigrams = nltk.word_tokenize(newstr)\n",
    "unigrams_count = len(unigrams)\n",
    "len(unigrams)"
   ]
  },
  {
   "cell_type": "code",
   "execution_count": 56,
   "metadata": {},
   "outputs": [
    {
     "data": {
      "text/plain": [
       "1208"
      ]
     },
     "execution_count": 56,
     "metadata": {},
     "output_type": "execute_result"
    }
   ],
   "source": [
    "bigrams = list(nltk.bigrams(unigrams))\n",
    "len(bigrams)"
   ]
  },
  {
   "cell_type": "code",
   "execution_count": 57,
   "metadata": {},
   "outputs": [
    {
     "data": {
      "text/plain": [
       "FreqDist({'the': 68, 'a': 32, 'to': 31, 'in': 27, 'of': 21, 'funds': 19, 'and': 17, 'fund': 16, 's': 15, 'is': 13, ...})"
      ]
     },
     "execution_count": 57,
     "metadata": {},
     "output_type": "execute_result"
    }
   ],
   "source": [
    "#The frequency of occurance of bigrams & unigrams\n",
    "from nltk.probability import FreqDist\n",
    "f_unigrams = FreqDist()\n",
    "for word in unigrams:\n",
    "    f_unigrams[word]+=1\n",
    "f_unigrams"
   ]
  },
  {
   "cell_type": "code",
   "execution_count": 59,
   "metadata": {},
   "outputs": [
    {
     "data": {
      "text/plain": [
       "FreqDist({('the', 'fund'): 11, ('in', 'the'): 7, ('fund', 's'): 7, ('the', 'market'): 6, ('this', 'year'): 5, ('the', 'leverage'): 5, ('of', 'the'): 5, ('and', 'the'): 4, ('in', 'a'): 4, ('High', 'Income'): 4, ...})"
      ]
     },
     "execution_count": 59,
     "metadata": {},
     "output_type": "execute_result"
    }
   ],
   "source": [
    "f_bigrams = FreqDist()\n",
    "for word in bigrams:\n",
    "    f_bigrams[word]+=1\n",
    "f_bigrams"
   ]
  },
  {
   "cell_type": "code",
   "execution_count": 60,
   "metadata": {},
   "outputs": [
    {
     "data": {
      "text/plain": [
       "1208"
      ]
     },
     "execution_count": 60,
     "metadata": {},
     "output_type": "execute_result"
    }
   ],
   "source": [
    "N = len(bigrams)\n",
    "n = len(unigrams)\n",
    "N"
   ]
  },
  {
   "cell_type": "code",
   "execution_count": 61,
   "metadata": {
    "scrolled": true
   },
   "outputs": [
    {
     "data": {
      "text/plain": [
       "dict_items([(('It', 'is'), 1), (('is', 'this'), 1), (('this', 'adapting'), 1), (('adapting', 'of'), 1), (('of', 'absurd'), 1), (('absurd', 'knots'), 1), (('knots', 'and'), 1), (('and', 'patterns'), 1), (('patterns', 'from'), 1), (('from', 'old'), 1), (('old', 'books'), 1), (('books', 'to'), 1), (('to', 'any'), 1), (('any', 'surface'), 1), (('surface', 'where'), 1), (('where', 'a'), 2), (('a', 'flower'), 1), (('flower', 'garden'), 1), (('garden', 'has'), 1), (('has', 'to'), 1), (('to', 'be'), 2), (('be', 'made'), 1), (('made', 'that'), 1), (('that', 'leads'), 1), (('leads', 'to'), 1), (('to', 'bad'), 1), (('bad', 'and'), 1), (('and', 'frivolous'), 1), (('frivolous', 'design'), 1), (('design', 'wrong'), 1), (('wrong', 'in'), 1), (('in', 'plan'), 1), (('plan', 'and'), 1), (('and', 'hopeless'), 1), (('hopeless', 'for'), 1), (('for', 'the'), 2), (('the', 'life'), 1), (('life', 'of'), 1), (('of', 'plants'), 1), (('plants', 'Many'), 1), (('Many', 'small'), 1), (('small', 'investors'), 1), (('investors', 'are'), 2), (('are', 'facing'), 1), (('facing', 'a'), 1), (('a', 'double'), 1), (('double', 'whammy'), 1), (('whammy', 'this'), 1), (('this', 'year'), 5), (('year', 'They'), 1), (('They', 'got'), 1), (('got', 'hurt'), 1), (('hurt', 'by'), 1), (('by', 'investing'), 1), (('investing', 'in'), 2), (('in', 'the'), 7), (('the', 'highly'), 1), (('highly', 'risky'), 1), (('risky', 'junk'), 1), (('junk', 'bond'), 3), (('bond', 'market'), 1), (('market', 'and'), 1), (('and', 'the'), 4), (('the', 'pain'), 1), (('pain', 'is'), 1), (('is', 'worse'), 1), (('worse', 'because'), 1), (('because', 'they'), 1), (('they', 'did'), 1), (('did', 'it'), 1), (('it', 'with'), 1), (('with', 'borrowed'), 1), (('borrowed', 'money'), 2), (('money', 'These'), 1), (('These', 'people'), 1), (('people', 'invested'), 1), (('invested', 'in'), 1), (('in', 'leveraged'), 1), (('leveraged', 'junk'), 2), (('bond', 'mutual'), 1), (('mutual', 'funds'), 3), (('funds', 'the'), 1), (('the', 'publicly'), 1), (('publicly', 'traded'), 2), (('traded', 'funds'), 1), (('funds', 'that'), 1), (('that', 'make'), 1), (('make', 'a'), 2), (('a', 'habit'), 1), (('habit', 'of'), 1), (('of', 'taking'), 1), (('taking', 'out'), 1), (('out', 'loans'), 1), (('loans', 'to'), 1), (('to', 'buy'), 2), (('buy', 'extra'), 1), (('extra', 'junk'), 1), (('junk', 'It'), 1), (('It', 's'), 1), (('s', 'a'), 2), (('a', 'good'), 1), (('good', 'strategy'), 1), (('strategy', 'in'), 1), (('in', 'a'), 4), (('a', 'rising'), 1), (('rising', 'market'), 1), (('market', 'where'), 1), (('a', '25'), 1), (('25', 'leveraged'), 1), (('leveraged', 'portfolio'), 1), (('portfolio', 'in'), 1), (('in', 'effect'), 1), (('effect', 'allows'), 1), (('allows', 'investors'), 1), (('investors', 'to'), 1), (('to', 'have'), 3), (('have', '125'), 1), (('125', 'of'), 1), (('of', 'their'), 2), (('their', 'money'), 1), (('money', 'working'), 1), (('working', 'for'), 1), (('for', 'them'), 1), (('them', 'The'), 1), (('The', 'strategy'), 1), (('strategy', 'boosts'), 1), (('boosts', 'current'), 1), (('current', 'yield'), 1), (('yield', 'by'), 1), (('by', 'putting'), 1), (('putting', 'more'), 1), (('more', 'bonds'), 1), (('bonds', 'into'), 1), (('into', 'the'), 1), (('the', 'portfolio'), 3), (('portfolio', 'Trouble'), 1), (('Trouble', 'is'), 1), (('is', 'junk'), 1), (('bond', 'prices'), 1), (('prices', 'have'), 1), (('have', 'been'), 3), (('been', 'weak'), 1), (('weak', 'for'), 1), (('for', 'months'), 1), (('months', 'Thus'), 1), (('Thus', 'the'), 1), (('the', 'leverage'), 5), (('leverage', 'has'), 2), (('has', 'amplified'), 1), (('amplified', 'the'), 1), (('the', 'funds'), 2), (('funds', 'portfolio'), 1), (('portfolio', 'losses'), 1), (('losses', 'And'), 1), (('And', 'shares'), 1), (('shares', 'of'), 1), (('of', 'leveraged'), 1), (('junk', 'funds'), 1), (('funds', 'this'), 1), (('year', 'have'), 1), (('been', 'clobbered'), 1), (('clobbered', 'even'), 1), (('even', 'harder'), 1), (('harder', 'than'), 1), (('than', 'the'), 3), (('the', 'junk'), 3), (('junk', 'bonds'), 2), (('bonds', 'they'), 1), (('they', 'hold'), 1), (('hold', 'That'), 1), (('That', 's'), 3), (('s', 'really'), 1), (('really', 'where'), 1), (('where', 'the'), 1), (('leverage', 'hurt'), 1), (('hurt', 'says'), 1), (('says', 'Thomas'), 1), (('Thomas', 'Herzfeld'), 1), (('Herzfeld', 'a'), 1), (('a', 'Miamibased'), 1), (('Miamibased', 'investment'), 1), (('investment', 'manager'), 1), (('manager', 'who'), 1), (('who', 'specializes'), 1), (('specializes', 'in'), 1), (('in', 'closedend'), 1), (('closedend', 'funds'), 2), (('funds', 'Share'), 1), (('Share', 'prices'), 1), (('prices', 'performed'), 1), (('performed', 'even'), 1), (('even', 'worse'), 1), (('worse', 'than'), 2), (('funds', 'asset'), 1), (('asset', 'values'), 1), (('values', 'because'), 1), (('because', 'fear'), 1), (('fear', 'has'), 1), (('has', 'taken'), 1), (('taken', 'hold'), 1), (('hold', 'in'), 1), (('junk', 'market'), 2), (('market', 'he'), 1), (('he', 'says'), 1), (('says', 'Leverage'), 1), (('Leverage', 'is'), 2), (('is', 'never'), 1), (('never', 'a'), 1), (('a', 'problem'), 2), (('problem', 'for'), 1), (('the', 'traditional'), 1), (('traditional', 'open'), 1), (('open', 'end'), 1), (('end', 'mutual'), 1), (('funds', 'which'), 1), (('which', 'are'), 1), (('are', 'nt'), 2), (('nt', 'publicly'), 1), (('traded', 'and'), 1), (('and', 'are'), 1), (('nt', 'allowed'), 1), (('allowed', 'to'), 1), (('to', 'use'), 1), (('use', 'leverage'), 1), (('leverage', 'at'), 1), (('at', 'all'), 1), (('all', 'Leverage'), 1), (('is', 'used'), 1), (('used', 'only'), 1), (('only', 'by'), 1), (('by', 'some'), 1), (('some', 'of'), 1), (('of', 'the'), 5), (('the', 'closedend'), 1), (('funds', 'The'), 1), (('The', 'usual'), 1), (('usual', 'maneuver'), 1), (('maneuver', 'is'), 1), (('is', 'to'), 1), (('to', 'borrow'), 2), (('borrow', 'against'), 1), (('against', 'the'), 2), (('portfolio', 'value'), 1), (('value', 'or'), 1), (('or', 'issue'), 1), (('issue', 'preferred'), 1), (('preferred', 'stock'), 2), (('stock', 'using'), 1), (('using', 'the'), 1), (('the', 'proceeds'), 1), (('proceeds', 'to'), 1), (('buy', 'additional'), 1), (('additional', 'bonds'), 1), (('bonds', 'The'), 1), (('The', 'fallout'), 1), (('fallout', 'for'), 1), (('for', 'investors'), 2), (('investors', 'lately'), 1), (('lately', 'has'), 1), (('has', 'been'), 1), (('been', 'painful'), 1), (('painful', 'Consider'), 1), (('Consider', 'the'), 1), (('the', 'New'), 1), (('New', 'America'), 2), (('America', 'High'), 2), (('High', 'Income'), 4), (('Income', 'Fund'), 4), (('Fund', 'With'), 1), (('With', 'a'), 1), (('a', 'leveraged'), 2), (('leveraged', 'position'), 1), (('position', 'of'), 1), (('of', 'about'), 1), (('about', '45'), 1), (('45', 'the'), 1), (('the', 'fund'), 11), (('fund', 's'), 7), (('s', 'share'), 1), (('share', 'price'), 1), (('price', 'has'), 1), (('has', 'plunged'), 1), (('plunged', '285'), 1), (('285', 'so'), 1), (('so', 'far'), 1), (('far', 'this'), 1), (('year', 'That'), 1), (('s', 'worse'), 1), (('the', 'price'), 1), (('price', 'drop'), 1), (('drop', 'sustained'), 1), (('sustained', 'by'), 1), (('by', 'the'), 2), (('the', 'bonds'), 2), (('bonds', 'in'), 1), (('in', 'its'), 1), (('its', 'portfolio'), 1), (('portfolio', 'whose'), 1), (('whose', 'total'), 1), (('total', 'return'), 1), (('return', 'bondprice'), 1), (('bondprice', 'changes'), 1), (('changes', 'plus'), 1), (('plus', 'interest'), 1), (('interest', 'has'), 1), (('has', 'amounted'), 1), (('amounted', 'to'), 1), (('to', 'a'), 2), (('a', 'negative'), 1), (('negative', '608'), 1), (('608', 'Such'), 1), (('Such', 'problems'), 1), (('problems', 'may'), 1), (('may', 'not'), 1), (('not', 'be'), 1), (('be', 'over'), 1), (('over', 'Leveraged'), 1), (('Leveraged', 'funds'), 1), (('funds', 'in'), 2), (('in', 'particular'), 1), (('particular', 'are'), 1), (('are', 'still'), 1), (('still', 'extremely'), 1), (('extremely', 'vulnerable'), 1), (('vulnerable', 'because'), 1), (('because', 'we'), 1), (('we', 're'), 3), (('re', 'still'), 1), (('still', 'at'), 1), (('at', 'the'), 3), (('the', 'beginning'), 1), (('beginning', 'of'), 1), (('of', 'problems'), 1), (('problems', 'in'), 1), (('market', 'says'), 1), (('says', 'George'), 1), (('George', 'Foot'), 1), (('Foot', 'a'), 1), (('a', 'managing'), 1), (('managing', 'partner'), 1), (('partner', 'at'), 1), (('at', 'Newgate'), 1), (('Newgate', 'Management'), 1), (('Management', 'Associates'), 1), (('Associates', 'in'), 1), (('in', 'Northampton'), 1), (('Northampton', 'Mass'), 1), (('Mass', 'Many'), 1), (('Many', 'investors'), 1), (('are', 'unaware'), 1), (('unaware', 'their'), 1), (('their', 'funds'), 1), (('funds', 'have'), 4), (('have', 'borrowed'), 1), (('borrowed', 'to'), 1), (('to', 'speculate'), 1), (('speculate', 'in'), 1), (('in', 'such'), 2), (('such', 'a'), 1), (('a', 'risky'), 1), (('risky', 'market'), 1), (('market', 'If'), 1), (('If', 'someone'), 1), (('someone', 'actually'), 1), (('actually', 'sat'), 1), (('sat', 'down'), 1), (('down', 'and'), 1), (('and', 'thought'), 1), (('thought', 'about'), 1), (('about', 'what'), 1), (('what', 'they'), 1), (('they', 'were'), 1), (('were', 'being'), 1), (('being', 'sold'), 1), (('sold', 'says'), 1), (('says', 'Gerald'), 1), (('Gerald', 'Perritt'), 1), (('Perritt', 'editor'), 1), (('editor', 'of'), 2), (('the', 'Mutual'), 1), (('Mutual', 'Fund'), 1), (('Fund', 'Letter'), 1), (('Letter', 'in'), 1), (('in', 'Chicago'), 1), (('Chicago', 'they'), 1), (('they', 'might'), 1), (('might', 'shy'), 1), (('shy', 'away'), 1), (('away', 'In'), 1), (('In', 'a'), 1), (('a', 'typical'), 1), (('typical', 'leverage'), 1), (('leverage', 'strategy'), 1), (('strategy', 'a'), 1), (('a', 'fund'), 2), (('fund', 'tries'), 1), (('tries', 'to'), 2), (('to', 'capture'), 1), (('capture', 'the'), 1), (('the', 'spread'), 1), (('spread', 'between'), 1), (('between', 'what'), 1), (('what', 'it'), 1), (('it', 'costs'), 1), (('costs', 'to'), 1), (('borrow', 'and'), 1), (('the', 'higher'), 1), (('higher', 'return'), 1), (('return', 'on'), 1), (('on', 'the'), 1), (('bonds', 'it'), 1), (('it', 'buys'), 1), (('buys', 'with'), 1), (('with', 'the'), 1), (('the', 'borrowed'), 1), (('money', 'If'), 1), (('If', 'the'), 1), (('the', 'market'), 6), (('market', 'surges'), 1), (('surges', 'holders'), 1), (('holders', 'can'), 1), (('can', 'make'), 1), (('make', 'that'), 1), (('that', 'much'), 1), (('much', 'more'), 1), (('more', 'profit'), 1), (('profit', 'the'), 1), (('leverage', 'effectively'), 1), (('effectively', 'acts'), 1), (('acts', 'as'), 1), (('as', 'an'), 1), (('an', 'interestfree'), 1), (('interestfree', 'margin'), 1), (('margin', 'account'), 1), (('account', 'for'), 1), (('investors', 'But'), 1), (('But', 'when'), 1), (('when', 'the'), 3), (('market', 'moves'), 1), (('moves', 'against'), 1), (('fund', 'investors'), 1), (('investors', 'lose'), 1), (('lose', 'more'), 1), (('more', 'than'), 1), (('than', 'other'), 1), (('other', 'junk'), 1), (('junk', 'holders'), 1), (('holders', 'because'), 1), (('because', 'the'), 1), (('market', 'decline'), 1), (('decline', 'is'), 1), (('is', 'magnified'), 1), (('magnified', 'by'), 1), (('the', 'amount'), 3), (('amount', 'the'), 1), (('fund', 'is'), 2), (('is', 'leveraged'), 1), (('leveraged', 'Fund'), 1), (('Fund', 'managers'), 1), (('managers', 'for'), 1), (('for', 'their'), 1), (('their', 'part'), 1), (('part', 'defend'), 1), (('defend', 'their'), 1), (('their', 'use'), 1), (('use', 'of'), 1), (('of', 'leverage'), 1), (('leverage', 'Carl'), 1), (('Carl', 'Ericson'), 1), (('Ericson', 'who'), 1), (('who', 'runs'), 1), (('runs', 'the'), 1), (('the', 'Colonial'), 1), (('Colonial', 'Intermediate'), 1), (('Intermediate', 'High'), 1), (('Fund', 'says'), 1), (('says', 'the'), 2), (('s', '25'), 1), (('25', 'leverage'), 1), (('has', 'jacked'), 1), (('jacked', 'up'), 1), (('up', 'its'), 1), (('its', 'interest'), 1), (('interest', 'income'), 1), (('income', 'As'), 1), (('As', 'long'), 1), (('long', 'as'), 1), (('as', 'I'), 1), (('I', 'am'), 1), (('am', 'borrowing'), 1), (('borrowing', 'at'), 1), (('at', '99'), 1), (('99', 'and'), 1), (('and', 'each'), 1), (('each', 'bond'), 1), (('bond', 'yields'), 1), (('yields', 'over'), 1), (('over', 'that'), 1), (('that', 'it'), 2), (('it', 'enhances'), 1), (('enhances', 'the'), 1), (('the', 'yield'), 1), (('yield', 'he'), 1), (('he', 'maintains'), 1), (('maintains', 'Mr'), 1), (('Mr', 'Ericson'), 1), (('Ericson', 'says'), 1), (('says', 'he'), 1), (('he', 'tries'), 1), (('to', 'offset'), 1), (('offset', 'the'), 1), (('leverage', 'by'), 1), (('by', 'diversifying'), 1), (('diversifying', 'the'), 1), (('s', 'portfolio'), 1), (('portfolio', 'Yet'), 1), (('Yet', 'some'), 1), (('some', 'funds'), 1), (('have', 'pulled'), 1), (('pulled', 'in'), 1), (('in', 'their'), 1), (('their', 'horns'), 1), (('horns', 'New'), 1), (('Fund', 'recently'), 1), (('recently', 'said'), 1), (('said', 'that'), 1), (('it', 'plans'), 1), (('plans', 'to'), 1), (('to', 'reduce'), 1), (('reduce', 'its'), 1), (('its', 'leverage'), 1), (('leverage', 'position'), 1), (('position', 'by'), 1), (('by', 'buying'), 1), (('buying', 'back'), 1), (('back', '5'), 1), (('5', 'million'), 1), (('million', 'in'), 1), (('in', 'preferred'), 1), (('stock', 'and'), 1), (('and', 'notes'), 1), (('notes', 'from'), 1), (('from', 'investors'), 1), (('investors', 'The'), 1), (('The', 'fund'), 1), (('fund', 'made'), 1), (('made', 'a'), 1), (('a', 'similar'), 1), (('similar', 'move'), 1), (('move', 'earlier'), 1), (('earlier', 'this'), 2), (('year', 'We'), 1), (('We', 'are'), 1), (('are', 'trying'), 1), (('trying', 'to'), 1), (('to', 'increase'), 1), (('increase', 'our'), 1), (('our', 'flexibility'), 1), (('flexibility', 'says'), 1), (('says', 'Ellen'), 1), (('Ellen', 'E'), 1), (('E', 'Terry'), 1), (('Terry', 'a'), 1), (('a', 'vice'), 1), (('vice', 'president'), 1), (('president', 'at'), 1), (('at', 'Ostrander'), 1), (('Ostrander', 'Capital'), 1), (('Capital', 'Management'), 1), (('Management', 'the'), 1), (('s', 'investment'), 1), (('investment', 'adviser'), 1), (('adviser', 'She'), 1), (('She', 'declined'), 1), (('declined', 'to'), 1), (('to', 'elaborate'), 1), (('elaborate', 'and'), 1), (('and', 'would'), 1), (('would', 'nt'), 1), (('nt', 'disclose'), 1), (('disclose', 'the'), 1), (('s', 'recent'), 2), (('recent', 'purchases'), 1), (('purchases', 'sales'), 1), (('sales', 'or'), 1), (('or', 'cash'), 1), (('cash', 'position'), 2), (('position', 'Ms'), 1), (('Ms', 'Terry'), 1), (('Terry', 'did'), 1), (('did', 'say'), 1), (('say', 'the'), 1), (('recent', 'performance'), 1), (('performance', 'illustrates'), 1), (('illustrates', 'what'), 1), (('what', 'happens'), 1), (('happens', 'in'), 1), (('leveraged', 'product'), 1), (('product', 'when'), 1), (('market', 'does'), 1), (('does', 'nt'), 1), (('nt', 'cooperate'), 1), (('cooperate', 'When'), 1), (('When', 'the'), 1), (('market', 'turns'), 1), (('turns', 'around'), 1), (('around', 'she'), 1), (('she', 'says'), 1), (('says', 'it'), 1), (('it', 'will'), 1), (('will', 'give'), 1), (('give', 'a'), 1), (('a', 'nice'), 1), (('nice', 'picture'), 1), (('picture', 'of'), 1), (('of', 'how'), 1), (('how', 'leverage'), 1), (('leverage', 'can'), 1), (('can', 'help'), 1), (('help', 'performance'), 1), (('performance', 'Several'), 1), (('Several', 'leveraged'), 1), (('leveraged', 'funds'), 1), (('funds', 'do'), 1), (('do', 'nt'), 2), (('nt', 'want'), 2), (('want', 'to'), 2), (('to', 'cut'), 1), (('cut', 'the'), 1), (('amount', 'they'), 1), (('they', 'borrow'), 1), (('borrow', 'because'), 1), (('because', 'it'), 1), (('it', 'would'), 1), (('would', 'slash'), 1), (('slash', 'the'), 1), (('the', 'income'), 1), (('income', 'they'), 1), (('they', 'pay'), 1), (('pay', 'shareholders'), 1), (('shareholders', 'fund'), 1), (('fund', 'officials'), 1), (('officials', 'said'), 1), (('said', 'But'), 1), (('But', 'a'), 1), (('a', 'few'), 1), (('few', 'funds'), 1), (('have', 'taken'), 1), (('taken', 'other'), 1), (('other', 'defensive'), 1), (('defensive', 'steps'), 1), (('steps', 'Some'), 1), (('Some', 'have'), 1), (('have', 'raised'), 1), (('raised', 'their'), 1), (('their', 'cash'), 1), (('cash', 'positions'), 2), (('positions', 'to'), 1), (('to', 'record'), 1), (('record', 'levels'), 1), (('levels', 'High'), 1), (('High', 'cash'), 1), (('positions', 'help'), 1), (('help', 'buffer'), 1), (('buffer', 'a'), 1), (('fund', 'when'), 1), (('market', 'falls'), 1), (('falls', 'Prospect'), 1), (('Prospect', 'Street'), 1), (('Street', 'High'), 1), (('Income', 'Portfolio'), 1), (('Portfolio', 'for'), 1), (('for', 'instance'), 1), (('instance', 'now'), 1), (('now', 'holds'), 1), (('holds', 'about'), 1), (('about', '15'), 1), (('15', 'in'), 1), (('in', 'cash'), 1), (('cash', 'and'), 1), (('and', 'equivalents'), 1), (('equivalents', 'nearly'), 1), (('nearly', 'quintuple'), 1), (('quintuple', 'the'), 1), (('amount', 'it'), 1), (('it', 'held'), 1), (('held', 'earlier'), 1), (('year', 'says'), 1), (('says', 'John'), 1), (('John', 'Frabotta'), 1), (('Frabotta', 'portfolio'), 1), (('portfolio', 'comanager'), 1), (('comanager', 'He'), 1), (('He', 'says'), 1), (('fund', 'which'), 1), (('which', 'is'), 1), (('is', '40'), 1), (('40', 'leveraged'), 1), (('leveraged', 'has'), 1), (('has', 'maintained'), 1), (('maintained', 'a'), 1), (('a', 'substantial'), 1), (('substantial', 'cushion'), 1), (('cushion', 'between'), 1), (('between', 'its'), 1), (('its', 'borrowing'), 1), (('borrowing', 'costs'), 1), (('costs', 'and'), 1), (('the', 'yields'), 1), (('yields', 'of'), 1), (('portfolio', 's'), 1), (('s', 'bonds'), 1), (('bonds', 'I'), 1), (('I', 'do'), 1), (('be', 'in'), 1), (('a', 'position'), 1), (('position', 'to'), 2), (('have', 'to'), 2), (('to', 'sell'), 1), (('sell', 'Mr'), 1), (('Mr', 'Frabotta'), 1), (('Frabotta', 'says'), 1), (('says', 'Other'), 1), (('Other', 'funds'), 1), (('have', 'recently'), 1), (('recently', 'sold'), 1), (('sold', 'weak'), 1), (('weak', 'junk'), 1), (('bonds', 'to'), 1), (('to', 'raise'), 2), (('raise', 'cash'), 1), (('cash', 'At'), 1), (('At', 'the'), 1), (('the', '50leveraged'), 1), (('50leveraged', 'Zenith'), 1), (('Zenith', 'Income'), 1), (('Fund', 'portfolio'), 1), (('portfolio', 'manager'), 1), (('manager', 'John'), 1), (('John', 'Bianchi'), 1), (('Bianchi', 'recently'), 1), (('recently', 'dumped'), 1), (('dumped', 'Mesa'), 1), (('Mesa', 'Petroleum'), 1), (('Petroleum', 'Wickes'), 1), (('Wickes', 'and'), 1), (('and', 'Horsehead'), 1), (('Horsehead', 'Industries'), 1), (('Industries', 'among'), 1), (('among', 'others'), 1), (('others', 'to'), 1), (('raise', 'his'), 1), (('his', 'cash'), 1), (('a', 'record'), 1), (('record', '15'), 1), (('15', 'That'), 1), (('problem', 'because'), 1), (('because', 'cash'), 1), (('cash', 'is'), 1), (('is', 'nt'), 1), (('nt', 'earning'), 1), (('earning', 'us'), 1), (('us', 'very'), 1), (('very', 'much'), 1), (('much', 'money'), 1), (('money', 'Mr'), 1), (('Mr', 'Bianchi'), 1), (('Bianchi', 'says'), 1), (('says', 'He'), 1), (('He', 'concedes'), 1), (('concedes', 'This'), 1), (('This', 'is'), 1), (('is', 'the'), 1), (('the', 'most'), 1), (('most', 'difficult'), 1), (('difficult', 'market'), 1), (('market', 'that'), 1), (('that', 'I'), 1), (('I', 've'), 1), (('ve', 'been'), 1), (('been', 'involved'), 1), (('involved', 'in'), 1), (('in', 'Because'), 1), (('Because', 'of'), 1), (('the', 'recent'), 1), (('recent', 'junkmarket'), 1), (('junkmarket', 'turmoil'), 1), (('turmoil', 'the'), 1), (('is', 'considering'), 1), (('considering', 'investing'), 1), (('in', 'other'), 1), (('other', 'issues'), 1), (('issues', 'instead'), 1), (('instead', 'including'), 1), (('including', 'mortgagebacked'), 1), (('mortgagebacked', 'bonds'), 1), (('bonds', 'We'), 1), (('We', 're'), 1), (('re', 'looking'), 1), (('looking', 'at'), 1), (('leverage', 'factor'), 1), (('factor', 'every'), 1), (('every', 'day'), 1), (('day', 'says'), 1), (('says', 'Robert'), 1), (('Robert', 'Moore'), 1), (('Moore', 'president'), 1), (('president', 'of'), 1), (('of', 'BernsteinMacaulay'), 1), (('BernsteinMacaulay', 'Inc'), 1), (('Inc', 'a'), 1), (('a', 'Shearson'), 1), (('Shearson', 'Lehman'), 1), (('Lehman', 'Hutton'), 1), (('Hutton', 'Inc'), 1), (('Inc', 'unit'), 1), (('unit', 'and'), 1), (('s', 'adviser'), 1), (('adviser', 'At'), 1), (('At', 'some'), 1), (('some', 'point'), 1), (('point', 'if'), 1), (('if', 'we'), 1), (('we', 'are'), 1), (('are', 'unable'), 1), (('unable', 'to'), 1), (('to', 'cover'), 1), (('cover', 'our'), 1), (('our', 'leveraged'), 1), (('leveraged', 'cost'), 1), (('cost', 'and'), 1), (('and', 'at'), 1), (('the', 'moment'), 1), (('moment', 'we'), 1), (('re', 'right'), 1), (('right', 'on'), 1), (('on', 'it'), 1), (('it', 'we'), 1), (('re', 'going'), 1), (('going', 'to'), 1), (('to', 'make'), 1), (('a', 'move'), 1), (('move', 'Investors'), 1), (('Investors', 'poured'), 1), (('poured', '28'), 1), (('28', 'billion'), 1), (('billion', 'more'), 1), (('more', 'into'), 1), (('into', 'moneymarket'), 1), (('moneymarket', 'mutual'), 1), (('the', 'latest'), 1), (('latest', 'week'), 1), (('week', 'despite'), 1), (('despite', 'further'), 1), (('further', 'declines'), 1), (('declines', 'in'), 1), (('in', 'yields'), 1), (('yields', 'Assets'), 1), (('Assets', 'of'), 1), (('the', '400'), 1), (('400', 'taxable'), 1), (('taxable', 'funds'), 2), (('funds', 'tracked'), 1), (('tracked', 'by'), 1), (('by', 'IBC'), 1), (('IBC', 's'), 1), (('s', 'Money'), 1), (('Money', 'Fund'), 2), (('Fund', 'Report'), 2), (('Report', 'jumped'), 1), (('jumped', 'to'), 1), (('to', '3512'), 1), (('3512', 'billion'), 1), (('billion', 'in'), 2), (('the', 'week'), 3), (('week', 'ended'), 2), (('ended', 'Tuesday'), 2), (('Tuesday', 'the'), 1), (('the', 'Holliston'), 1), (('Holliston', 'Massbased'), 1), (('Massbased', 'newsletter'), 1), (('newsletter', 'said'), 1), (('said', 'Assets'), 1), (('Assets', 'soared'), 1), (('soared', '45'), 1), (('45', 'billion'), 1), (('the', 'previous'), 1), (('previous', 'week'), 1), (('week', 'Meanwhile'), 1), (('Meanwhile', 'the'), 1), (('the', 'average'), 1), (('average', 'yield'), 2), (('yield', 'on'), 3), (('on', 'taxable'), 1), (('funds', 'dropped'), 1), (('dropped', 'nearly'), 1), (('nearly', 'a'), 1), (('a', 'tenth'), 1), (('tenth', 'of'), 1), (('of', 'a'), 1), (('a', 'percentage'), 1), (('percentage', 'point'), 1), (('point', 'the'), 1), (('the', 'largest'), 1), (('largest', 'drop'), 1), (('drop', 'since'), 1), (('since', 'midsummer'), 1), (('midsummer', 'The'), 1), (('The', 'average'), 2), (('average', 'sevenday'), 1), (('sevenday', 'compound'), 1), (('compound', 'yield'), 1), (('yield', 'which'), 1), (('which', 'assumes'), 1), (('assumes', 'that'), 1), (('that', 'dividends'), 1), (('dividends', 'are'), 1), (('are', 'reinvested'), 1), (('reinvested', 'and'), 1), (('and', 'that'), 1), (('that', 'current'), 1), (('current', 'rates'), 1), (('rates', 'continue'), 1), (('continue', 'for'), 1), (('for', 'a'), 2), (('a', 'year'), 1), (('year', 'fell'), 1), (('fell', 'to'), 1), (('to', '847'), 1), (('847', 'its'), 1), (('its', 'lowest'), 1), (('lowest', 'since'), 1), (('since', 'late'), 1), (('late', 'last'), 1), (('last', 'year'), 1), (('year', 'from'), 1), (('from', '855'), 1), (('855', 'the'), 1), (('week', 'before'), 1), (('before', 'according'), 1), (('according', 'to'), 2), (('to', 'Donoghue'), 1), (('Donoghue', 's'), 1), (('s', 'Lower'), 1), (('Lower', 'yields'), 1), (('yields', 'are'), 1), (('are', 'just'), 1), (('just', 'reflecting'), 1), (('reflecting', 'lower'), 1), (('lower', 'shortterm'), 1), (('shortterm', 'interest'), 1), (('interest', 'rates'), 2), (('rates', 'said'), 1), (('said', 'Brenda'), 1), (('Brenda', 'Malizia'), 1), (('Malizia', 'Negus'), 1), (('Negus', 'editor'), 1), (('of', 'Money'), 1), (('Report', 'Money'), 1), (('Money', 'funds'), 1), (('funds', 'invest'), 1), (('invest', 'in'), 1), (('such', 'things'), 1), (('things', 'as'), 1), (('as', 'shortterm'), 1), (('shortterm', 'Treasury'), 1), (('Treasury', 'securities'), 1), (('securities', 'commercial'), 1), (('commercial', 'paper'), 1), (('paper', 'and'), 1), (('and', 'certificates'), 1), (('certificates', 'of'), 1), (('of', 'deposit'), 1), (('deposit', 'all'), 1), (('all', 'of'), 1), (('of', 'which'), 1), (('which', 'have'), 1), (('been', 'posting'), 1), (('posting', 'lower'), 1), (('lower', 'interest'), 1), (('rates', 'since'), 1), (('since', 'last'), 1), (('last', 'spring'), 1), (('spring', 'Individual'), 1), (('Individual', 'investors'), 1), (('investors', 'can'), 1), (('can', 'still'), 1), (('still', 'get'), 1), (('get', 'better'), 1), (('better', 'yields'), 1), (('yields', 'on'), 1), (('on', 'money'), 1), (('money', 'funds'), 1), (('funds', 'than'), 1), (('than', 'on'), 1), (('on', 'many'), 1), (('many', 'other'), 1), (('other', 'shortterm'), 1), (('shortterm', 'instruments'), 1), (('instruments', 'The'), 1), (('The', 'yield'), 1), (('on', 'sixmonth'), 2), (('sixmonth', 'Treasury'), 1), (('Treasury', 'bills'), 1), (('bills', 'sold'), 1), (('sold', 'at'), 1), (('at', 'Monday'), 1), (('Monday', 's'), 1), (('s', 'auction'), 1), (('auction', 'for'), 1), (('for', 'example'), 1), (('example', 'was'), 1), (('was', 'just'), 1), (('just', '777'), 1), (('777', 'The'), 1), (('sixmonth', 'CDs'), 1), (('CDs', 'of'), 1), (('of', '50000'), 1), (('50000', 'or'), 1), (('or', 'less'), 1), (('less', 'at'), 1), (('at', 'major'), 1), (('major', 'banks'), 1), (('banks', 'was'), 1), (('was', '796'), 1), (('796', 'in'), 1), (('Tuesday', 'according'), 1), (('to', 'Banxquote'), 1), (('Banxquote', 'Money'), 1), (('Money', 'Markets'), 1), (('Markets', 'a'), 1), (('a', 'New'), 1), (('New', 'York'), 1), (('York', 'information'), 1), (('information', 'service'), 1), (('service', 'One'), 1), (('One', 'way'), 1), (('way', 'that'), 1), (('that', 'money'), 1), (('money', 'fund'), 1), (('fund', 'managers'), 1), (('managers', 'boost'), 1), (('boost', 'yields'), 1), (('yields', 'in'), 1), (('a', 'declining'), 1), (('declining', 'rate'), 1), (('rate', 'environment'), 1), (('environment', 'is'), 1), (('is', 'by'), 1), (('by', 'extending'), 1), (('extending', 'the'), 1), (('the', 'maturities'), 1), (('maturities', 'of'), 1), (('their', 'investments'), 1), (('investments', 'so'), 1), (('so', 'they'), 1), (('they', 'can'), 1), (('can', 'earn'), 1), (('earn', 'the'), 1), (('the', 'current'), 1), (('current', 'higher'), 1), (('higher', 'rates'), 1), (('rates', 'for'), 1), (('a', 'longer'), 1), (('longer', 'period'), 1)])"
      ]
     },
     "execution_count": 61,
     "metadata": {},
     "output_type": "execute_result"
    }
   ],
   "source": [
    "#Bigrams in the form of tuples\n",
    "\n",
    "f_bigrams.items()"
   ]
  },
  {
   "cell_type": "code",
   "execution_count": 62,
   "metadata": {},
   "outputs": [],
   "source": [
    "#Allocating all the values & frquencies of the bigram & unigram into the list form to access it through indexing\n",
    "bi_val=[]\n",
    "uni_val = []\n",
    "\n",
    "for i in f_unigrams.items():\n",
    "    uni_val.append(i)\n",
    "\n",
    "\n",
    "for i in f_bigrams.items():\n",
    "    bi_val.append(i)"
   ]
  },
  {
   "cell_type": "code",
   "execution_count": 63,
   "metadata": {},
   "outputs": [
    {
     "data": {
      "text/plain": [
       "538"
      ]
     },
     "execution_count": 63,
     "metadata": {},
     "output_type": "execute_result"
    }
   ],
   "source": [
    "len(uni_val)"
   ]
  },
  {
   "cell_type": "code",
   "execution_count": 64,
   "metadata": {},
   "outputs": [],
   "source": [
    "#  DEFINING CHI-SQUARE FUNCTION(NOT CALLING)\n",
    "chi_list = []\n",
    "\n",
    "def chisq(a,b):\n",
    "    count = 0\n",
    "    for i in range(0,len(bi_val)):\n",
    "        if bi_val[i][0][0] == a and bi_val[i][0][1] == b:\n",
    "            p = bi_val[i][1]\n",
    "            #s = N - p\n",
    "    for i in range(0,len(bi_val)):\n",
    "        if bi_val[i][0][1] == b:\n",
    "            count+= bi_val[i][1]\n",
    "        q = count - p\n",
    "    for i in range(0,len(uni_val)):\n",
    "        if uni_val[i][0] == a:\n",
    "            x = uni_val[i][1]\n",
    "            r = x - p\n",
    "    s = N - p -q - r\n",
    "    chi = (((p-(((p+q)*(p+r))/N)) **2)/ (((p+q)*(p+r))/N ))+(((q-(((p+q)*(q+s))/N))**2)/(((p+q)*(q+s))/N))+(((r-(((p+r)*(r+s))/N))**2)/(((p+r)*(r+s))/N))+(((s-(((s+r)*(s+q))/N))**2)/(((s+r)*(q+s))/N)) \n",
    "        \n",
    "    val = [a , b ,chi]\n",
    "    chi_list.append(val)\n",
    "    #print_chi()\n",
    "    #print(chi_list)\n",
    "#chisq(bi_val[0][0][0],bi_val[0][0][1])\n"
   ]
  },
  {
   "cell_type": "code",
   "execution_count": 65,
   "metadata": {},
   "outputs": [
    {
     "name": "stdout",
     "output_type": "stream",
     "text": [
      "['absurd', 'knots', 1208.0000000000002]\n",
      "['old', 'books', 1208.0000000000002]\n",
      "['any', 'surface', 1208.0000000000002]\n",
      "['flower', 'garden', 1208.0000000000002]\n",
      "['frivolous', 'design', 1208.0000000000002]\n",
      "['design', 'wrong', 1208.0000000000002]\n",
      "['double', 'whammy', 1208.0000000000002]\n",
      "['They', 'got', 1208.0000000000002]\n",
      "['These', 'people', 1208.0000000000002]\n",
      "['people', 'invested', 1208.0000000000002]\n",
      "['taking', 'out', 1208.0000000000002]\n",
      "['out', 'loans', 1208.0000000000002]\n",
      "['effect', 'allows', 1208.0000000000002]\n",
      "['months', 'Thus', 1208.0000000000002]\n",
      "['losses', 'And', 1208.0000000000002]\n",
      "['And', 'shares', 1208.0000000000002]\n",
      "['Thomas', 'Herzfeld', 1208.0000000000002]\n",
      "['asset', 'values', 1208.0000000000002]\n",
      "['traditional', 'open', 1208.0000000000002]\n",
      "['open', 'end', 1208.0000000000002]\n"
     ]
    }
   ],
   "source": [
    "def chi_square():\n",
    "    for i in range(0,len(bi_val)):\n",
    "        a = bi_val[i][0][0]\n",
    "        b = bi_val[i][0][1]\n",
    "        \n",
    "        ch = chisq(a,b)\n",
    "        \n",
    "    \n",
    "    def sortSecond(val): \n",
    "        return val[2]  \n",
    "  \n",
    "    chi_list.sort(key = sortSecond, reverse = True) \n",
    "    for i in chi_list[:20]:\n",
    "        print(i)\n",
    "    \n",
    "chi_square()"
   ]
  },
  {
   "cell_type": "code",
   "execution_count": 68,
   "metadata": {},
   "outputs": [],
   "source": [
    "# DEFINING THE PMI FUNCTION\n",
    "pmi_list = []\n",
    "def pm(a,b):\n",
    "    for i in range(0,len(bi_val)):\n",
    "        if bi_val[i][0][0] == a and bi_val[i][0][1] == b:\n",
    "            p = bi_val[i][1]\n",
    "    for i in range(0,len(uni_val)):\n",
    "        if uni_val[i][0] == a:\n",
    "            q = uni_val[i][1]\n",
    "        if uni_val[i][0] == b:\n",
    "            r = uni_val[i][1]\n",
    "    prob = (p/N)/((q/n)*(r/n))\n",
    "    \n",
    "    pmi = math.log(prob)\n",
    "    #print(a , b, pmi)\n",
    "    p_val = [a , b , pmi]\n",
    "    pmi_list.append(p_val)\n",
    "    "
   ]
  },
  {
   "cell_type": "code",
   "execution_count": 67,
   "metadata": {
    "scrolled": true
   },
   "outputs": [
    {
     "name": "stdout",
     "output_type": "stream",
     "text": [
      "['absurd', 'knots', 7.098376322734825]\n",
      "['old', 'books', 7.098376322734825]\n",
      "['any', 'surface', 7.098376322734825]\n",
      "['flower', 'garden', 7.098376322734825]\n",
      "['frivolous', 'design', 7.098376322734825]\n",
      "['design', 'wrong', 7.098376322734825]\n",
      "['double', 'whammy', 7.098376322734825]\n",
      "['They', 'got', 7.098376322734825]\n",
      "['These', 'people', 7.098376322734825]\n",
      "['people', 'invested', 7.098376322734825]\n",
      "['taking', 'out', 7.098376322734825]\n",
      "['out', 'loans', 7.098376322734825]\n",
      "['effect', 'allows', 7.098376322734825]\n",
      "['months', 'Thus', 7.098376322734825]\n",
      "['losses', 'And', 7.098376322734825]\n",
      "['And', 'shares', 7.098376322734825]\n",
      "['Thomas', 'Herzfeld', 7.098376322734825]\n",
      "['asset', 'values', 7.098376322734825]\n",
      "['traditional', 'open', 7.098376322734825]\n",
      "['open', 'end', 7.098376322734825]\n"
     ]
    }
   ],
   "source": [
    "#CALLING THE FUNCTION PMI\n",
    "def pmi():\n",
    "    for i in range(0,len(bi_val)):\n",
    "        a = bi_val[i][0][0]\n",
    "        b = bi_val[i][0][1]\n",
    "        \n",
    "        pmi = pm(a,b)\n",
    "     \n",
    "    def sortSecond(val):\n",
    "        return val[2]\n",
    "    \n",
    "    pmi_list.sort(key = sortSecond, reverse = True)\n",
    "    for i in pmi_list[:20]:\n",
    "        print(i)\n",
    "        \n",
    "\n",
    "    #print(new_list)\n",
    "pmi()"
   ]
  },
  {
   "cell_type": "code",
   "execution_count": null,
   "metadata": {},
   "outputs": [],
   "source": []
  },
  {
   "cell_type": "code",
   "execution_count": null,
   "metadata": {},
   "outputs": [],
   "source": []
  }
 ],
 "metadata": {
  "kernelspec": {
   "display_name": "Python 3",
   "language": "python",
   "name": "python3"
  },
  "language_info": {
   "codemirror_mode": {
    "name": "ipython",
    "version": 3
   },
   "file_extension": ".py",
   "mimetype": "text/x-python",
   "name": "python",
   "nbconvert_exporter": "python",
   "pygments_lexer": "ipython3",
   "version": "3.7.1"
  }
 },
 "nbformat": 4,
 "nbformat_minor": 2
}
